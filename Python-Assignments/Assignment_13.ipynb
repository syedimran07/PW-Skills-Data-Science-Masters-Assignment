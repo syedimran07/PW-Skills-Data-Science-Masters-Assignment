{
 "cells": [
  {
   "cell_type": "markdown",
   "id": "bb3e39ec",
   "metadata": {},
   "source": [
    "### Q1. What is multithreading in python? Why is it used? Name the module used to handle threads in python.\n",
    "\n",
    "Ans: \"Multithreading\" is a programming concept where multiple threads runs independently within the single process, allowing for parallel execution of tasks.\n",
    "\n",
    "Multithreading is used to improve the performance of a program by executing multiple threads concurrently. It is particularly beneficial in scenarios where some tasks can be performed independently, allowing for parallelism and potentially faster execution. However, in Python, due to the Global Interpreter Lock (GIL), multithreading is not always the most efficient way to achieve parallelism, especially for CPU-bound tasks. For CPU-bound tasks, multiprocessing might be more suitable.\n",
    "\n",
    "The \"threading\" module is used to handle threads in Python. It provides a simple and easy-to-use interface for creating, managing, and synchronizing threads. The \"Thread\" class from this module is commonly used to create and control threads."
   ]
  },
  {
   "cell_type": "markdown",
   "id": "4fe7d5fb",
   "metadata": {},
   "source": [
    "###  Q2. Why threading module used? Write the use of the following functions:\n",
    "    1. activeCount()\n",
    "    2. currentThread()\n",
    "    3. enumerate()\n",
    "    \n",
    "    \n",
    "Ans: The \"threading\" module in Python is used for creating, managing, and synchronizing threads. It provides a high-level, object-oriented API for working with threads, making it easier to implement concurrent behavior in a program.\n",
    "\n",
    "\n",
    "1. activeCount():\n",
    "\n",
    "The activeCount() function is used to get the number of Thread objects currently alive.\n",
    "\n",
    "2. currentThread():\n",
    "\n",
    "The currentThread() function is used to get the current Thread object, corresponding to the caller's thread of control.\n",
    "\n",
    "3. enumerate():\n",
    "\n",
    "The enumerate() function returns a list of all Thread objects currently alive. If the group argument is None, it returns a list of all Thread objects in the system."
   ]
  },
  {
   "cell_type": "code",
   "execution_count": 1,
   "id": "a51bfa07",
   "metadata": {},
   "outputs": [
    {
     "name": "stdout",
     "output_type": "stream",
     "text": [
      "Thread function\n",
      "Thread function\n",
      "Number of active threads: 6\n"
     ]
    },
    {
     "name": "stderr",
     "output_type": "stream",
     "text": [
      "C:\\Users\\imran.basha\\AppData\\Local\\Temp\\ipykernel_27260\\2403160075.py:12: DeprecationWarning: activeCount() is deprecated, use active_count() instead\n",
      "  active_threads = threading.activeCount()\n"
     ]
    }
   ],
   "source": [
    "import threading\n",
    "\n",
    "def my_function():\n",
    "    print(\"Thread function\")\n",
    "\n",
    "thread1 = threading.Thread(target=my_function)\n",
    "thread2 = threading.Thread(target=my_function)\n",
    "\n",
    "thread1.start()\n",
    "thread2.start()\n",
    "\n",
    "active_threads = threading.activeCount()\n",
    "print(f\"Number of active threads: {active_threads}\")\n"
   ]
  },
  {
   "cell_type": "code",
   "execution_count": 2,
   "id": "0aedbf35",
   "metadata": {},
   "outputs": [
    {
     "name": "stdout",
     "output_type": "stream",
     "text": [
      "Current thread: Thread-A\n"
     ]
    }
   ],
   "source": [
    "import threading\n",
    "\n",
    "def print_current_thread():\n",
    "    current_thread = threading.current_thread()\n",
    "    print(f\"Current thread: {current_thread.name}\")\n",
    "\n",
    "my_thread = threading.Thread(target=print_current_thread, name=\"Thread-A\")\n",
    "\n",
    "my_thread.start()"
   ]
  },
  {
   "cell_type": "code",
   "execution_count": 3,
   "id": "36b3d8c8",
   "metadata": {},
   "outputs": [
    {
     "name": "stdout",
     "output_type": "stream",
     "text": [
      "Thread function\n",
      "Thread function\n",
      "All threads: [<_MainThread(MainThread, started 26512)>, <Thread(IOPub, started daemon 18052)>, <Heartbeat(Heartbeat, started daemon 26944)>, <ControlThread(Control, started daemon 26752)>, <HistorySavingThread(IPythonHistorySavingThread, started 5984)>, <ParentPollerWindows(Thread-4, started daemon 19160)>]\n"
     ]
    }
   ],
   "source": [
    "import threading\n",
    "\n",
    "def my_function():\n",
    "    print(\"Thread function\")\n",
    "\n",
    "thread1 = threading.Thread(target=my_function)\n",
    "thread2 = threading.Thread(target=my_function)\n",
    "\n",
    "thread1.start()\n",
    "thread2.start()\n",
    "\n",
    "all_threads = threading.enumerate()\n",
    "print(f\"All threads: {all_threads}\")"
   ]
  },
  {
   "cell_type": "markdown",
   "id": "8372beb2",
   "metadata": {},
   "source": [
    "### Q3. Explain the following functions:\n",
    "    1. run()\n",
    "    2. start()\n",
    "    3. join()\n",
    "    4. isAlive()\n",
    "    \n",
    "    \n",
    "Ans:\n",
    "\n",
    "1. run():\n",
    "\n",
    "The run() method is the entry point for the thread's activity. It defines the code that will be executed when the thread is started. When a Thread instance is created, you can override the run() method in a subclass to specify the behavior of the thread. The start() method is then called to initiate the execution of the run() method in a separate thread.\n",
    "\n",
    "2. start():\n",
    "\n",
    "The start() method is used to initiate the execution of the thread. It creates a new thread of control, and the run() method of the thread is invoked in that separate thread. It does not call the run() method directly but instead sets things up for the separate thread to call it.\n",
    "\n",
    "3. join():\n",
    "\n",
    "The join() method is used to wait for the thread to complete its execution. It blocks the calling thread until the thread whose join() method is called is terminated. This is useful when you want to ensure that a particular thread has finished its work before the main program proceeds.\n",
    "\n",
    "4. isAlive():\n",
    "\n",
    "The isAlive() method is used to check whether the thread is currently executing (alive) or has completed its execution. It returns True if the thread is still running and False otherwise."
   ]
  },
  {
   "cell_type": "code",
   "execution_count": 4,
   "id": "375007b9",
   "metadata": {},
   "outputs": [
    {
     "name": "stdout",
     "output_type": "stream",
     "text": [
      "Thread is running\n"
     ]
    }
   ],
   "source": [
    "import threading\n",
    "\n",
    "class MyThread(threading.Thread):\n",
    "    def run(self):\n",
    "        print(\"Thread is running\")\n",
    "\n",
    "my_thread = MyThread()\n",
    "\n",
    "my_thread.start()\n"
   ]
  },
  {
   "cell_type": "code",
   "execution_count": 5,
   "id": "e698b1a3",
   "metadata": {},
   "outputs": [
    {
     "name": "stdout",
     "output_type": "stream",
     "text": [
      "Thread function\n"
     ]
    }
   ],
   "source": [
    "import threading\n",
    "\n",
    "def my_function():\n",
    "    print(\"Thread function\")\n",
    "\n",
    "my_thread = threading.Thread(target=my_function)\n",
    "\n",
    "my_thread.start()"
   ]
  },
  {
   "cell_type": "code",
   "execution_count": 6,
   "id": "caef4dbf",
   "metadata": {},
   "outputs": [
    {
     "name": "stdout",
     "output_type": "stream",
     "text": [
      "Thread function\n"
     ]
    }
   ],
   "source": [
    "import threading\n",
    "\n",
    "def my_function():\n",
    "    print(\"Thread function\")\n",
    "\n",
    "my_thread = threading.Thread(target=my_function)\n",
    "\n",
    "my_thread.start()\n",
    "\n",
    "my_thread.join()"
   ]
  },
  {
   "cell_type": "code",
   "execution_count": 7,
   "id": "554a1560",
   "metadata": {},
   "outputs": [
    {
     "name": "stdout",
     "output_type": "stream",
     "text": [
      "Is the thread alive? True\n",
      "Thread function\n",
      "Is the thread alive? False\n"
     ]
    }
   ],
   "source": [
    "import threading\n",
    "import time\n",
    "\n",
    "def my_function():\n",
    "    time.sleep(2)\n",
    "    print(\"Thread function\")\n",
    "\n",
    "my_thread = threading.Thread(target=my_function)\n",
    "\n",
    "my_thread.start()\n",
    "\n",
    "print(f\"Is the thread alive? {my_thread.is_alive()}\")\n",
    "\n",
    "my_thread.join()\n",
    "\n",
    "print(f\"Is the thread alive? {my_thread.is_alive()}\")"
   ]
  },
  {
   "cell_type": "markdown",
   "id": "94721417",
   "metadata": {},
   "source": [
    "### Q4. Write a python program to create two threads. Thread one must print the list of squares and thread two must print the list of cubes."
   ]
  },
  {
   "cell_type": "code",
   "execution_count": 8,
   "id": "ef39c68c",
   "metadata": {},
   "outputs": [
    {
     "name": "stdout",
     "output_type": "stream",
     "text": [
      "Square: Cube:  1\n",
      "Cube:  8\n",
      "Cube:  27\n",
      "Cube:  64\n",
      " 1\n",
      "Square:  4\n",
      "Square:  9\n",
      "Square:  16\n"
     ]
    }
   ],
   "source": [
    "import threading\n",
    "\n",
    "numbers = [1,2,3,4]\n",
    "\n",
    "def print_squares(numbers):\n",
    "    for num in numbers:\n",
    "        print(\"Square: \",num ** 2)\n",
    "        \n",
    "def print_cubes(numbers):\n",
    "    for num in numbers:\n",
    "        print(\"Cube: \", num * num * num)\n",
    "        \n",
    "thread_square = [threading.Thread(target=print_squares, args=(numbers,))]\n",
    "thread_cube = [threading.Thread(target=print_cubes, args=(numbers,))]\n",
    "\n",
    "for t in thread_square:\n",
    "    result = t.start()\n",
    "    \n",
    "for t in thread_cube:\n",
    "    result = t.start()"
   ]
  },
  {
   "cell_type": "markdown",
   "id": "4be306e0",
   "metadata": {},
   "source": [
    "### Q5. State advantages and disadvantages of multithreading.\n",
    "\n",
    "\n",
    "Ans:\n",
    "\n",
    "Advantages of Multithreading:\n",
    "\n",
    "1. Concurrency: Enables simultaneous execution of tasks, improving performance in parallelizable applications.\n",
    "2. Resource Sharing: Threads share the same memory space, facilitating efficient communication and resource utilization.\n",
    "3. Responsiveness: Enhances user interface responsiveness by executing tasks concurrently without blocking.\n",
    "4. Efficient Task Execution: Utilizes multiple cores or processors for faster task execution in hardware-rich environments.\n",
    "5. Simplified Code: Can simplify code structure by breaking down complex tasks into manageable threads.\n",
    "\n",
    "\n",
    "Disadvantages of Multithreading:\n",
    "\n",
    "1. Complexity: Introduces code complexity due to synchronization requirements, making code harder to understand.\n",
    "2. Race Conditions: Concurrent access to shared resources may lead to unpredictable outcomes without proper synchronization.\n",
    "3. Deadlocks: Occurs when threads are blocked, waiting for each other's resources, resulting in a program standstill.\n",
    "4. Overhead: Increases memory usage and context-switching costs, with potential overhead outweighing benefits.\n",
    "5. Debugging Challenges: Debugging is challenging due to intermittent issues and dependencies on specific thread timings."
   ]
  },
  {
   "cell_type": "markdown",
   "id": "70e8c3a2",
   "metadata": {},
   "source": [
    "### Q6. Explain deadlocks and race conditions.\n",
    "\n",
    "Ans:\n",
    "\n",
    "Deadlocks:\n",
    "\n",
    "Deadlock occurs when two or more threads are blocked forever, each waiting for the other to release a resource. In Python, this can happen when multiple threads acquire locks in different orders, leading to a circular wait situation. To prevent deadlocks, proper locking order and timeout mechanisms should be employed.\n",
    "\n",
    "Race Conditions:\n",
    "\n",
    "Race conditions happen when multiple threads access shared resources concurrently, leading to unpredictable outcomes. In Python, this can occur if threads don't synchronize access to shared variables or resources. To address race conditions, locks or other synchronization mechanisms must be used to ensure mutually exclusive access and maintain data integrity."
   ]
  },
  {
   "cell_type": "code",
   "execution_count": null,
   "id": "3bc003a6",
   "metadata": {},
   "outputs": [],
   "source": []
  }
 ],
 "metadata": {
  "kernelspec": {
   "display_name": "Python 3 (ipykernel)",
   "language": "python",
   "name": "python3"
  },
  "language_info": {
   "codemirror_mode": {
    "name": "ipython",
    "version": 3
   },
   "file_extension": ".py",
   "mimetype": "text/x-python",
   "name": "python",
   "nbconvert_exporter": "python",
   "pygments_lexer": "ipython3",
   "version": "3.10.13"
  }
 },
 "nbformat": 4,
 "nbformat_minor": 5
}
