{
 "cells": [
  {
   "cell_type": "markdown",
   "id": "956dec79",
   "metadata": {},
   "source": [
    "### Q1. Which function is used to open a file? What are the different modes of opening a file? Explain each mode of file opening.\n",
    "\n",
    "Ans: open() function is used to open line with two aruguments filename and mode.\n",
    "\n",
    "#### Different modes opening file:\n",
    "1. r (Read):\n",
    "\n",
    "file = open(\"example.txt\", \"r\")\n",
    "\n",
    "It opens the file for reading read. If file not exits, it raises \"FileNotFoundError\"\n",
    "\n",
    "2. w (Write):\n",
    "\n",
    "file = open(\"example.txt\", \"w\")\n",
    "\n",
    "It opens the file for writing. If file exits, its turncate file to zero length. If file not exits, it create a new file.\n",
    "\n",
    "3. a (Append):\n",
    "\n",
    "file = open(\"example.txt\", \"a\")\n",
    "\n",
    "It opens the file for appending. The file pointer is at the end of the file, so any data written is added to the end. If the file does not exist, it creates a new file.\n",
    "\n",
    "4. b (binary): \n",
    "\n",
    "file = open(\"example.txt\", \"rb\")\n",
    "\n",
    "This mode is used when working with binary files, such as images or executable files. It can be combined with other modes, such as 'rb' or 'wb'.\n",
    "\n",
    "5. x (exclusive creation): \n",
    "\n",
    "file = open(\"example.txt\", \"x\")\n",
    "\n",
    "It opens the file for exclusive creation. If the file already exists, the operation will fail.\n",
    "\n",
    "6. t (text mode):\n",
    "\n",
    "file = open(\"example.txt\", \"rt\")\n",
    "\n",
    "This is the default mode for text files. It can be combined with other modes, such as 'rt' or 'wt'."
   ]
  },
  {
   "cell_type": "markdown",
   "id": "4b08e175",
   "metadata": {},
   "source": [
    "### Q2. Why close() function is used? Why is it important to close a file?\n",
    "\n",
    "Ans: close() function is used to close the file. It is important to close a file because If one process is writing to a file and another is reading from it, closing the file in the writing process ensures that the reading process can access the most up-to-date version of the file."
   ]
  },
  {
   "cell_type": "markdown",
   "id": "6ab98c27",
   "metadata": {},
   "source": [
    "### Q3. Write a python program to create a text file. Write ‘I want to become a Data Scientist’ in that file. Then close the file. Open this file and read the content of the file."
   ]
  },
  {
   "cell_type": "code",
   "execution_count": 1,
   "id": "30787eaf",
   "metadata": {},
   "outputs": [
    {
     "data": {
      "text/plain": [
       "'I want to become a Data Scientist'"
      ]
     },
     "execution_count": 1,
     "metadata": {},
     "output_type": "execute_result"
    }
   ],
   "source": [
    "file = open(\"text.txt\", \"w\")\n",
    "file.write(\"I want to become a Data Scientist\")\n",
    "file.close()\n",
    "data = open(\"text.txt\", \"r\")\n",
    "data.read()"
   ]
  },
  {
   "cell_type": "markdown",
   "id": "5812fa84",
   "metadata": {},
   "source": [
    "### Q4. Explain the following with python code: read(), readline() and readlines().\n",
    "\n",
    "Ans:\n",
    "\n",
    "1. read():\n",
    "It is used to read entire data of file.\n",
    "\n",
    "2. readline():\n",
    "It is uesd to read single line from file.\n",
    "\n",
    "3. readlines():\n",
    "It is used to read all lines from file and return as list of string."
   ]
  },
  {
   "cell_type": "code",
   "execution_count": 2,
   "id": "89a3c0f9",
   "metadata": {},
   "outputs": [
    {
     "name": "stdout",
     "output_type": "stream",
     "text": [
      "Entire Content : A data scientist is a professional who employs a combination of statistical expertise, domain knowledge, and programming skills to extract valuable insights and knowledge from large volumes of data.\n",
      "These experts are integral to the field of data science, playing a crucial role in analyzing complex datasets to uncover patterns, trends, and correlations that can inform strategic decision-making. \n",
      "Data scientists utilize a variety of tools and techniques, including machine learning algorithms, statistical models, and data visualization tools, to make sense of data and derive actionable conclusions. \n",
      "They work across diverse industries, such as finance, healthcare, technology, and more, using their analytical skills to solve complex problems and drive innovation. The role of a data scientist continues to evolve, reflecting advancements in technology and the growing importance of data-driven decision-making in today's information-centric world. \n",
      "As organizations increasingly recognize the value of data, data scientists play a pivotal role in translating raw information into meaningful insights that can guide business strategies and contribute to overall success.\n",
      "\n",
      "Single Line : A data scientist is a professional who employs a combination of statistical expertise, domain knowledge, and programming skills to extract valuable insights and knowledge from large volumes of data.\n",
      "\n",
      "\n",
      "['A data scientist is a professional who employs a combination of statistical expertise, domain knowledge, and programming skills to extract valuable insights and knowledge from large volumes of data.\\n', 'These experts are integral to the field of data science, playing a crucial role in analyzing complex datasets to uncover patterns, trends, and correlations that can inform strategic decision-making. \\n', 'Data scientists utilize a variety of tools and techniques, including machine learning algorithms, statistical models, and data visualization tools, to make sense of data and derive actionable conclusions. \\n', \"They work across diverse industries, such as finance, healthcare, technology, and more, using their analytical skills to solve complex problems and drive innovation. The role of a data scientist continues to evolve, reflecting advancements in technology and the growing importance of data-driven decision-making in today's information-centric world. \\n\", 'As organizations increasingly recognize the value of data, data scientists play a pivotal role in translating raw information into meaningful insights that can guide business strategies and contribute to overall success.']\n"
     ]
    }
   ],
   "source": [
    "# Example using read()\n",
    "file_path = 'data.txt'\n",
    "with open(file_path, 'r') as file:\n",
    "    content = file.read()\n",
    "    print('Entire Content :', content)\n",
    "print()\n",
    "# Example using readline()\n",
    "with open(file_path, 'r') as file:\n",
    "    line = file.readline()\n",
    "    print(\"Single Line :\", line)\n",
    "print()\n",
    "# Example using readlines()\n",
    "with open(file_path, 'r') as file:\n",
    "    lines = file.readlines()\n",
    "    print(lines)"
   ]
  },
  {
   "cell_type": "markdown",
   "id": "5b760170",
   "metadata": {},
   "source": [
    "### Q5. Explain why with statement is used with open(). What is the advantage of using with statement and open() together?\n",
    "\n",
    "Ans: The with statement works with the open() function to open a file. Unlike open() where you have to close the file with the close() method, the with statement closes the file for you without you telling it to.\n",
    "\n",
    "The advantage of using the with statement with open() is that it automatically takes care of the resource management, specifically opening and closing the file. \n",
    "\n",
    "Without the with statement, you would need to explicitly open and close the file using open() and close() methods, and if an exception occurs, there's a risk that the file may not be properly closed, leading to potential data corruption or loss."
   ]
  },
  {
   "cell_type": "markdown",
   "id": "a1552f26",
   "metadata": {},
   "source": [
    "### Q6. Explain the write() and writelines() functions. Give a suitable example.\n",
    "\n",
    "\n",
    "Ans:\n",
    "\n",
    "1. write() Function:\n",
    "The write() function is used to write a single string to the file.\n",
    "\n",
    "2. writelines() Function:\n",
    "The writelines() function is used to write a list of strings to the file. It takes an iterable (such as a list) of strings as an argument."
   ]
  },
  {
   "cell_type": "code",
   "execution_count": 3,
   "id": "639ef0d9",
   "metadata": {},
   "outputs": [],
   "source": [
    "# write() function\n",
    "with open('text1.txt', 'w') as file:\n",
    "    file.write('Hello, World!')\n",
    "    file.write('This is an example of the write() function.')\n",
    "\n",
    "    \n",
    "# writelines() function\n",
    "lines = ['a\\n', 'b\\n', 'c\\n']\n",
    "with open('text2.txt', 'w') as file:\n",
    "    file.writelines(lines)"
   ]
  },
  {
   "cell_type": "code",
   "execution_count": null,
   "id": "83a480e0",
   "metadata": {},
   "outputs": [],
   "source": []
  }
 ],
 "metadata": {
  "kernelspec": {
   "display_name": "Python 3 (ipykernel)",
   "language": "python",
   "name": "python3"
  },
  "language_info": {
   "codemirror_mode": {
    "name": "ipython",
    "version": 3
   },
   "file_extension": ".py",
   "mimetype": "text/x-python",
   "name": "python",
   "nbconvert_exporter": "python",
   "pygments_lexer": "ipython3",
   "version": "3.10.13"
  }
 },
 "nbformat": 4,
 "nbformat_minor": 5
}
