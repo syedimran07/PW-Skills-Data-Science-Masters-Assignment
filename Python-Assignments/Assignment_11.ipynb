{
 "cells": [
  {
   "cell_type": "markdown",
   "id": "50bea909",
   "metadata": {},
   "source": [
    "### Q1. What is an Exception in python? Write the difference between Exceptions and Syntax errors.\n",
    "\n",
    "Ans: Exception is an event that occurs during the execution of a program that disrupts the normal flow of the program's instructions. When an error or exceptional condition occurs, Python raises an exception, which can be caught and handled by the program. Exceptions are a way of dealing with errors and unexpected situations in a more controlled and graceful manner.\n",
    "\n",
    "Syntax errors, on the other hand, are errors that occur when the code violates the syntax rules of the Python language. These errors are detected by the Python interpreter during the parsing phase before the program is executed. Syntax errors often prevent the program from running at all.\n",
    "\n",
    "#### Differences:\n",
    "\n",
    "1. Exceptions occur during runtime due to unforeseen circumstances, while syntax errors are detected by the interpreter during code parsing.\n",
    "\n",
    "2. Syntax errors involve violations of language rules, like types or incorrect indentation, leading to immediate code rejection. Exceptions are raised when valid syntax encounters unexpected conditions, such as division by zero or accessing an undefined variable.\n",
    "\n",
    "3. Handling exceptions with try, except blocks allows for graceful error management, preventing program crashes. Syntax errors are typically identified before program execution, making them easier to locate and fix during the development phase."
   ]
  },
  {
   "cell_type": "markdown",
   "id": "2ea86136",
   "metadata": {},
   "source": [
    "### Q2. What happens when an exception is not handled? Explain with an example.\n",
    "\n",
    "Ans: When an exception is not handled in a program, it typically leads to the termination of the program and an error message being displayed. This abrupt termination can leave the program in an unpredictable state, and any resources allocated by the program may not be properly released."
   ]
  },
  {
   "cell_type": "code",
   "execution_count": 1,
   "id": "75aaa439",
   "metadata": {},
   "outputs": [
    {
     "name": "stdout",
     "output_type": "stream",
     "text": [
      "Error: division by zero\n",
      "Result: 0\n"
     ]
    }
   ],
   "source": [
    "def divide_numbers(a, b):\n",
    "    result = 0\n",
    "    try:\n",
    "        result = a / b\n",
    "    except ZeroDivisionError as e:\n",
    "        print(f\"Error: {e}\")\n",
    "    return result\n",
    "\n",
    "def main():\n",
    "    num1 = 10\n",
    "    num2 = 0\n",
    "\n",
    "    result = divide_numbers(num1, num2)\n",
    "    \n",
    "    print(f\"Result: {result}\")\n",
    "\n",
    "if __name__ == \"__main__\":\n",
    "    main()\n"
   ]
  },
  {
   "cell_type": "markdown",
   "id": "9cd74330",
   "metadata": {},
   "source": [
    "### Q3. Which Python statements are used to catch and handle exceptions? Explain within example.\n",
    "\n",
    "Ans: try, except, else and finally are used to catch handle exceptions."
   ]
  },
  {
   "cell_type": "code",
   "execution_count": 2,
   "id": "ef70419d",
   "metadata": {},
   "outputs": [
    {
     "name": "stdout",
     "output_type": "stream",
     "text": [
      "Division successful. Result: 5.0\n",
      "This block always executes, regardless of whether an exception occurred or not.\n",
      "Error: Cannot divide by zero!\n",
      "This block always executes, regardless of whether an exception occurred or not.\n",
      "Error: Unsupported operand type\n",
      "This block always executes, regardless of whether an exception occurred or not.\n"
     ]
    }
   ],
   "source": [
    "def divide_numbers(a, b):\n",
    "    try:\n",
    "        result = a / b\n",
    "    except ZeroDivisionError:\n",
    "        print(\"Error: Cannot divide by zero!\")\n",
    "    except TypeError:\n",
    "        print(\"Error: Unsupported operand type\")\n",
    "    else:\n",
    "        print(\"Division successful. Result:\", result)\n",
    "    finally:\n",
    "        print(\"This block always executes, regardless of whether an exception occurred or not.\")\n",
    "\n",
    "\n",
    "divide_numbers(10, 2)\n",
    "divide_numbers(10, 0)\n",
    "divide_numbers(\"10\", 2)  "
   ]
  },
  {
   "cell_type": "markdown",
   "id": "6769e9de",
   "metadata": {},
   "source": [
    "### Q4. Explain with an example:\n",
    "\n",
    "  a. try and else\n",
    "  \n",
    "  b. finally\n",
    "  \n",
    "  c. raise\n",
    "  \n",
    "  \n",
    "Ans:\n",
    "\n",
    "a. The 'try' block is used to enclose a section of code where an exception might occur. The 'else' block is executed if the code in the try block doesn't raise any exceptions. It provides a way to specify code that should only run when there is no exception.\n",
    "\n",
    "b. The 'finally' block is used to define a block of code that will be executed no matter what, whether an exception occurs or not.\n",
    "\n",
    "c.  The raise statement is used to raise an exception explicitly in your code. It allows you to generate a specific exception or customize the error message. It is often used in situations where you want to indicate that a particular condition or constraint has been violated."
   ]
  },
  {
   "cell_type": "code",
   "execution_count": 3,
   "id": "98c0b4ca",
   "metadata": {},
   "outputs": [
    {
     "name": "stdout",
     "output_type": "stream",
     "text": [
      "Division successful. Result: 5.0\n",
      "Error: Cannot divide by zero!\n"
     ]
    }
   ],
   "source": [
    "def divide_numbers(a, b):\n",
    "    try:\n",
    "        result = a / b\n",
    "    except ZeroDivisionError:\n",
    "        print(\"Error: Cannot divide by zero!\")\n",
    "    else:\n",
    "        print(\"Division successful. Result:\", result)\n",
    "\n",
    "divide_numbers(10, 2)  \n",
    "divide_numbers(10, 0)  "
   ]
  },
  {
   "cell_type": "code",
   "execution_count": 4,
   "id": "a9fe7575",
   "metadata": {},
   "outputs": [
    {
     "name": "stdout",
     "output_type": "stream",
     "text": [
      "Error: File not found!\n",
      "File handling completed.\n"
     ]
    }
   ],
   "source": [
    "def read_file(file_path):\n",
    "    try:\n",
    "        file = open(file_path, 'r')\n",
    "        content = file.read()\n",
    "        print(\"File content:\", content)\n",
    "    except FileNotFoundError:\n",
    "        print(\"Error: File not found!\")\n",
    "    finally:\n",
    "        if 'file' in locals() and file is not None:\n",
    "            file.close()\n",
    "        print(\"File handling completed.\")\n",
    "\n",
    "read_file(\"example.txt\") "
   ]
  },
  {
   "cell_type": "code",
   "execution_count": 5,
   "id": "d413ff3e",
   "metadata": {},
   "outputs": [
    {
     "name": "stdout",
     "output_type": "stream",
     "text": [
      "Input is a positive number.\n",
      "Error: Input must be a positive number.\n"
     ]
    }
   ],
   "source": [
    "def check_positive_number(value):\n",
    "    try:\n",
    "        if value < 0:\n",
    "            raise ValueError(\"Input must be a positive number.\")\n",
    "        else:\n",
    "            print(\"Input is a positive number.\")\n",
    "    except ValueError as e:\n",
    "        print(f\"Error: {e}\")\n",
    "\n",
    "check_positive_number(5)\n",
    "check_positive_number(-3) "
   ]
  },
  {
   "cell_type": "markdown",
   "id": "440ca97c",
   "metadata": {},
   "source": [
    "### Q5. What are Custom Exceptions in python? Why do we need Custom Exceptions? Explain with an example.\n",
    "\n",
    "\n",
    "Ans:\n",
    "\n",
    "\n",
    "Custom exceptions in Python refer to user-defined exception classes that extend the built-in Exception class. They allow you to create and raise exceptions specific to your application or module. Creating custom exceptions can enhance the clarity and maintainability of your code by providing more meaningful error messages and allowing for better organization of error-handling logic."
   ]
  },
  {
   "cell_type": "code",
   "execution_count": 6,
   "id": "56a7be1b",
   "metadata": {},
   "outputs": [
    {
     "name": "stdout",
     "output_type": "stream",
     "text": [
      "enter your name Imran\n",
      "Name is valid\n"
     ]
    }
   ],
   "source": [
    "class namevalue(Exception):\n",
    "    def __init__(self,message):\n",
    "        self.message = message\n",
    "def validate_name(name):\n",
    "    if len(name) < 4:\n",
    "        raise namevalue(\"Name should not be lesser than 4\")\n",
    "    elif len(name) > 10:\n",
    "        raise namevalue(\"Name should not be greater than 10\")\n",
    "    else:\n",
    "        print(\"Name is valid\")\n",
    "\n",
    "        \n",
    "try:\n",
    "    name = input(\"enter your name \")\n",
    "    validate_name(name)\n",
    "except namevalue as e:\n",
    "    print(e)"
   ]
  },
  {
   "cell_type": "markdown",
   "id": "3ea5c185",
   "metadata": {},
   "source": [
    "### Q6. Create custom exception class. Use this class to handle an exception."
   ]
  },
  {
   "cell_type": "code",
   "execution_count": 7,
   "id": "27347144",
   "metadata": {},
   "outputs": [
    {
     "name": "stdout",
     "output_type": "stream",
     "text": [
      "Processed input: 123\n",
      "Error: Invalid input: abc. Please provide a valid input.\n"
     ]
    }
   ],
   "source": [
    "class InvalidInputError(Exception):\n",
    "    def __init__(self, input_value):\n",
    "        super().__init__(f\"Invalid input: {input_value}. Please provide a valid input.\")\n",
    "\n",
    "def process_user_input(user_input):\n",
    "    try:\n",
    "        if not user_input.isdigit():\n",
    "            raise InvalidInputError(user_input)\n",
    "        else:\n",
    "            processed_input = int(user_input)\n",
    "            print(f\"Processed input: {processed_input}\")\n",
    "    except InvalidInputError as e:\n",
    "        print(f\"Error: {e}\")\n",
    "\n",
    "\n",
    "user_input_1 = \"123\"\n",
    "process_user_input(user_input_1)  \n",
    "\n",
    "user_input_2 = \"abc\"\n",
    "process_user_input(user_input_2)  "
   ]
  },
  {
   "cell_type": "code",
   "execution_count": null,
   "id": "18d6bd94",
   "metadata": {},
   "outputs": [],
   "source": []
  }
 ],
 "metadata": {
  "kernelspec": {
   "display_name": "Python 3 (ipykernel)",
   "language": "python",
   "name": "python3"
  },
  "language_info": {
   "codemirror_mode": {
    "name": "ipython",
    "version": 3
   },
   "file_extension": ".py",
   "mimetype": "text/x-python",
   "name": "python",
   "nbconvert_exporter": "python",
   "pygments_lexer": "ipython3",
   "version": "3.10.13"
  }
 },
 "nbformat": 4,
 "nbformat_minor": 5
}
